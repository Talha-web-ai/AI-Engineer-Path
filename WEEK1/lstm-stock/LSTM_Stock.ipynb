{
 "cells": [
  {
   "cell_type": "markdown",
   "id": "9da182ea",
   "metadata": {},
   "source": [
    "# LSTM STOCK "
   ]
  },
  {
   "cell_type": "code",
   "execution_count": null,
   "id": "421305a1",
   "metadata": {},
   "outputs": [],
   "source": [
    "# 1. Import libraries\n",
    "import numpy as np\n",
    "import pandas as pd\n",
    "import matplotlib.pyplot as plt\n",
    "from sklearn.preprocessing import MinMaxScaler\n",
    "from tensorflow.keras.models import Sequential\n",
    "from tensorflow.keras.layers import LSTM, Dense, Dropout\n",
    "\n",
    "# 2. Generate synthetic stock data\n",
    "np.random.seed(42)\n",
    "time = np.arange(0, 500)\n",
    "stock_prices = 50 + 0.1 * time + 5 * np.sin(0.1 * time) + np.random.normal(scale=2, size=len(time))\n",
    "\n",
    "df = pd.DataFrame(stock_prices, columns=[\"Price\"])\n",
    "\n",
    "# 3. Normalize data\n",
    "scaler = MinMaxScaler(feature_range=(0, 1))\n",
    "scaled = scaler.fit_transform(df)\n",
    "\n",
    "# 4. Create sequences\n",
    "def create_sequences(data, seq_length=50):\n",
    "    X, y = [], []\n",
    "    for i in range(len(data) - seq_length):\n",
    "        X.append(data[i:i+seq_length])\n",
    "        y.append(data[i+seq_length])\n",
    "    return np.array(X), np.array(y)\n",
    "\n",
    "SEQ_LEN = 50\n",
    "X, y = create_sequences(scaled, SEQ_LEN)\n",
    "\n",
    "# Reshape for LSTM [samples, time_steps, features]\n",
    "X = X.reshape((X.shape[0], X.shape[1], 1))\n",
    "\n",
    "# 5. Train/test split\n",
    "split = int(len(X) * 0.8)\n",
    "X_train, X_test = X[:split], X[split:]\n",
    "y_train, y_test = y[:split], y[split:]\n",
    "\n",
    "# 6. Build LSTM model\n",
    "model = Sequential([\n",
    "    LSTM(64, return_sequences=True, input_shape=(SEQ_LEN, 1)),\n",
    "    Dropout(0.2),\n",
    "    LSTM(32),\n",
    "    Dropout(0.2),\n",
    "    Dense(1)\n",
    "])\n",
    "\n",
    "model.compile(optimizer=\"adam\", loss=\"mse\")\n",
    "history = model.fit(X_train, y_train, epochs=10, batch_size=32, validation_data=(X_test, y_test), verbose=1)\n",
    "\n",
    "# 7. Predictions\n",
    "preds = model.predict(X_test)\n",
    "preds = scaler.inverse_transform(preds)\n",
    "y_test_rescaled = scaler.inverse_transform(y_test)\n",
    "\n",
    "# 8. Plot results\n",
    "plt.figure(figsize=(10, 6))\n",
    "plt.plot(y_test_rescaled, label=\"True Prices\")\n",
    "plt.plot(preds, label=\"Predicted Prices\")\n",
    "plt.legend()\n",
    "plt.title(\"Synthetic Stock Price Prediction with LSTM\")\n",
    "plt.show()\n"
   ]
  },
  {
   "cell_type": "markdown",
   "id": "8916cb6c",
   "metadata": {},
   "source": []
  }
 ],
 "metadata": {
  "kernelspec": {
   "display_name": "week1",
   "language": "python",
   "name": "python3"
  },
  "language_info": {
   "name": "python",
   "version": "3.10.18"
  }
 },
 "nbformat": 4,
 "nbformat_minor": 5
}
